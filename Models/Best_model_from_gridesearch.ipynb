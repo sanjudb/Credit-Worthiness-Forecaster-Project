{
 "cells": [
  {
   "cell_type": "code",
   "execution_count": 18,
   "id": "52342744",
   "metadata": {},
   "outputs": [
    {
     "name": "stdout",
     "output_type": "stream",
     "text": [
      "<class 'pandas.core.frame.DataFrame'>\n",
      "RangeIndex: 50000 entries, 0 to 49999\n",
      "Data columns (total 18 columns):\n",
      " #   Column               Non-Null Count  Dtype  \n",
      "---  ------               --------------  -----  \n",
      " 0   loan_amnt            50000 non-null  float64\n",
      " 1   term                 50000 non-null  int64  \n",
      " 2   int_rate             50000 non-null  float64\n",
      " 3   installment          50000 non-null  float64\n",
      " 4   grade                50000 non-null  int64  \n",
      " 5   home_ownership       50000 non-null  int64  \n",
      " 6   annual_inc           50000 non-null  float64\n",
      " 7   verification_status  50000 non-null  int64  \n",
      " 8   loan_status          50000 non-null  int64  \n",
      " 9   purpose              50000 non-null  int64  \n",
      " 10  dti                  50000 non-null  float64\n",
      " 11  earliest_cr_line     50000 non-null  int64  \n",
      " 12  pub_rec              50000 non-null  int64  \n",
      " 13  revol_bal            50000 non-null  float64\n",
      " 14  revol_util           50000 non-null  float64\n",
      " 15  total_acc            50000 non-null  float64\n",
      " 16  mort_acc             50000 non-null  float64\n",
      " 17  postal_code          50000 non-null  int64  \n",
      "dtypes: float64(9), int64(9)\n",
      "memory usage: 6.9 MB\n"
     ]
    }
   ],
   "source": [
    "import pandas as pd\n",
    "df = pd.read_csv(\"D:\\\\stratified_sample_50000.csv\")\n",
    "df.head()\n",
    "df.info()\n",
    "\n",
    "x=df.drop(\"loan_status\",axis=1)\n",
    "y=df[\"loan_status\"]\n",
    "\n",
    "from imblearn.over_sampling import SMOTE\n",
    "\n",
    "smote = SMOTE(sampling_strategy=0.3)\n",
    "x_res, y_res = smote.fit_resample(x,y)\n",
    "\n",
    "x_res.shape, y_res.shape\n",
    "from sklearn.model_selection import train_test_split\n",
    "X_train, x_test, y_train, y_test = train_test_split(x_res, y_res, test_size=0.2, random_state=123456)"
   ]
  },
  {
   "cell_type": "code",
   "execution_count": 15,
   "id": "3f5a678b",
   "metadata": {},
   "outputs": [],
   "source": [
    "from sklearn.ensemble import RandomForestClassifier\n",
    "rf = RandomForestClassifier(max_depth=None,min_samples_leaf=1,min_samples_split=10)\n",
    "rf.fit(X_train,y_train)\n",
    "y_pred = rf.predict(x_test)\n",
    "final_model = rf\n"
   ]
  },
  {
   "cell_type": "code",
   "execution_count": 16,
   "id": "fa8e7775",
   "metadata": {},
   "outputs": [
    {
     "name": "stdout",
     "output_type": "stream",
     "text": [
      "              precision    recall  f1-score   support\n",
      "\n",
      "           0       0.94      0.49      0.65      2403\n",
      "           1       0.87      0.99      0.93      8095\n",
      "\n",
      "    accuracy                           0.88     10498\n",
      "   macro avg       0.90      0.74      0.79     10498\n",
      "weighted avg       0.88      0.88      0.86     10498\n",
      "\n"
     ]
    }
   ],
   "source": [
    "from sklearn.metrics import classification_report, confusion_matrix\n",
    "print(classification_report(y_test,y_pred))\n"
   ]
  },
  {
   "cell_type": "code",
   "execution_count": 17,
   "id": "7522880e",
   "metadata": {},
   "outputs": [],
   "source": [
    "import pickle\n",
    "\n",
    "with open('./Finalmodel.pkl', 'wb') as file:\n",
    "    pickle.dump(final_model,file)"
   ]
  },
  {
   "cell_type": "code",
   "execution_count": null,
   "id": "747a58b2",
   "metadata": {},
   "outputs": [],
   "source": []
  }
 ],
 "metadata": {
  "kernelspec": {
   "display_name": "Python 3 (ipykernel)",
   "language": "python",
   "name": "python3"
  },
  "language_info": {
   "codemirror_mode": {
    "name": "ipython",
    "version": 3
   },
   "file_extension": ".py",
   "mimetype": "text/x-python",
   "name": "python",
   "nbconvert_exporter": "python",
   "pygments_lexer": "ipython3",
   "version": "3.11.7"
  }
 },
 "nbformat": 4,
 "nbformat_minor": 5
}
