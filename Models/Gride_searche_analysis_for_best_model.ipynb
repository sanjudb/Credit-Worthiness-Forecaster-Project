{
 "cells": [
  {
   "cell_type": "code",
   "execution_count": null,
   "id": "0629b110",
   "metadata": {},
   "outputs": [],
   "source": [
    "import pandas as pd\n",
    "df = pd.read_csv(\"D:\\\\stratified_sample_50000.csv\")\n",
    "df.head()\n",
    "\n",
    "x=df.drop(\"loan_status\",axis=1)\n",
    "y=df[\"loan_status\"]\n",
    "\n",
    "from imblearn.over_sampling import SMOTE\n",
    "\n",
    "smote = SMOTE(sampling_strategy=0.3)\n",
    "x_res, y_res = smote.fit_resample(x,y)\n",
    "\n",
    "x_res.shape, y_res.shape\n",
    "from sklearn.model_selection import train_test_split\n",
    "X_train, x_test, y_train, y_test = train_test_split(x_res, y_res, test_size=0.2, random_state=123456)"
   ]
  },
  {
   "cell_type": "code",
   "execution_count": null,
   "id": "a6fff219",
   "metadata": {},
   "outputs": [],
   "source": [
    "from sklearn.model_selection import GridSearchCV, StratifiedKFold\n",
    "from sklearn.pipeline import Pipeline\n",
    "from sklearn.neighbors import KNeighborsClassifier\n",
    "from sklearn.linear_model import LogisticRegression\n",
    "from sklearn.ensemble import RandomForestClassifier\n",
    "from sklearn.tree import DecisionTreeClassifier\n",
    "from sklearn.naive_bayes import BernoulliNB\n",
    "from xgboost import XGBClassifier\n",
    "from catboost import CatBoostClassifier\n",
    "import numpy as np\n",
    "\n",
    "# Define the classifiers\n",
    "knn = KNeighborsClassifier()\n",
    "lr = LogisticRegression(max_iter=500)\n",
    "rf = RandomForestClassifier(n_estimators=100)\n",
    "cb = CatBoostClassifier(iterations=100, learning_rate=0.1, depth=6, verbose=0)\n",
    "dt = DecisionTreeClassifier()\n",
    "br = BernoulliNB()\n",
    "xgc = XGBClassifier(use_label_encoder=False, eval_metric='logloss"
   ]
  },
  {
   "cell_type": "code",
   "execution_count": null,
   "id": "602ef969",
   "metadata": {},
   "outputs": [],
   "source": [
    "# Create individual pipelines\n",
    "pipelines = {\n",
    "    'knn': Pipeline([(\"classifier\", knn)]),\n",
    "    'lr': Pipeline([(\"classifier\", lr)]),\n",
    "    'rf': Pipeline([(\"classifier\", rf)]),\n",
    "    'cb': Pipeline([(\"classifier\", cb)]),\n",
    "    'dt': Pipeline([(\"classifier\", dt)]),\n",
    "    'br': Pipeline([(\"classifier\", br)]),\n",
    "    'xgc': Pipeline([(\"classifier\", xgc)]),\n",
    "}\n",
    "\n",
    "# Create the parameter grid\n",
    "params = {\n",
    "    'lr': {\n",
    "        'classifier__penalty': [\"l2\", None],\n",
    "        'classifier__C': np.linspace(0.001, 10, 20),\n",
    "        'classifier__solver': [\"lbfgs\", \"newton-cg\", \"newton-cholesky\", \"sag\"],\n",
    "    },\n",
    "    'rf': {\n",
    "        'classifier__max_depth': [None, 3, 5],\n",
    "        'classifier__min_samples_split': [2, 5, 10],\n",
    "        'classifier__min_samples_leaf': [1, 5, 10],\n",
    "    },\n",
    "    'dt': {\n",
    "        'classifier__min_samples_split': [2, 5, 7, 10, 13],\n",
    "        'classifier__min_samples_leaf': [1, 5, 7, 10, 13],\n",
    "        'classifier__max_depth': [2, 5, 7, 10, 13, None],\n",
    "    },\n",
    "    'br': {\n",
    "        'classifier__alpha': [0, 0.1, 0.5, 1.5, 2, 2.4, 4],\n",
    "    },\n",
    "    # Add more parameter grids for other classifiers if needed\n",
    "}"
   ]
  },
  {
   "cell_type": "code",
   "execution_count": null,
   "id": "f797f056",
   "metadata": {},
   "outputs": [],
   "source": [
    "\n",
    "# Create a StratifiedKFold object\n",
    "kfold = StratifiedKFold(n_splits=5, shuffle=True, random_state=24)\n",
    "\n",
    "# Perform grid search on each pipeline\n",
    "for model_name, pipeline in pipelines.items():\n",
    "    if model_name in params:\n",
    "        gcv = GridSearchCV(pipeline, param_grid=params[model_name], cv=kfold, scoring='neg_log_loss')\n",
    "        gcv.fit(X_train, y_train)  # X_train and y_train should be your training data\n",
    "        print(f\"Best parameters for {model_name}: {gcv.best_params_}\")\n",
    "        print(f\"Best score for {model_name}: {gcv.best_score_}\")\n",
    "        "
   ]
  },
  {
   "cell_type": "code",
   "execution_count": null,
   "id": "000f0ec6",
   "metadata": {},
   "outputs": [],
   "source": []
  },
  {
   "cell_type": "code",
   "execution_count": null,
   "id": "20cdb52e",
   "metadata": {},
   "outputs": [],
   "source": []
  }
 ],
 "metadata": {
  "kernelspec": {
   "display_name": "Python 3 (ipykernel)",
   "language": "python",
   "name": "python3"
  },
  "language_info": {
   "codemirror_mode": {
    "name": "ipython",
    "version": 3
   },
   "file_extension": ".py",
   "mimetype": "text/x-python",
   "name": "python",
   "nbconvert_exporter": "python",
   "pygments_lexer": "ipython3",
   "version": "3.11.7"
  }
 },
 "nbformat": 4,
 "nbformat_minor": 5
}
