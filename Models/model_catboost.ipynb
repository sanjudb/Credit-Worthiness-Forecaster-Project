{
 "cells": [
  {
   "cell_type": "code",
   "execution_count": 1,
   "id": "24d9b92e",
   "metadata": {},
   "outputs": [],
   "source": [
    "import pandas as pd\n",
    "df = pd.read_csv(\"stratified_sample_50000.csv\")\n",
    "df.head()\n",
    "\n",
    "x=df.drop(\"loan_status\",axis=1)\n",
    "y=df[\"loan_status\"]\n",
    "\n",
    "from imblearn.over_sampling import SMOTE\n",
    "\n",
    "smote = SMOTE(sampling_strategy=0.3)\n",
    "x_res, y_res = smote.fit_resample(x,y)\n",
    "\n",
    "x_res.shape, y_res.shape\n",
    "from sklearn.model_selection import train_test_split\n",
    "X_train, x_test, y_train, y_test = train_test_split(x_res, y_res, test_size=0.2, random_state=123456)"
   ]
  },
  {
   "cell_type": "code",
   "execution_count": 2,
   "id": "f872c556",
   "metadata": {},
   "outputs": [
    {
     "name": "stdout",
     "output_type": "stream",
     "text": [
      "0:\tlearn: 0.6389569\ttotal: 181ms\tremaining: 17.9s\n",
      "1:\tlearn: 0.5942515\ttotal: 207ms\tremaining: 10.1s\n",
      "2:\tlearn: 0.5566126\ttotal: 232ms\tremaining: 7.51s\n",
      "3:\tlearn: 0.5253413\ttotal: 255ms\tremaining: 6.12s\n",
      "4:\tlearn: 0.4988873\ttotal: 279ms\tremaining: 5.3s\n",
      "5:\tlearn: 0.4763672\ttotal: 299ms\tremaining: 4.69s\n",
      "6:\tlearn: 0.4568707\ttotal: 321ms\tremaining: 4.26s\n",
      "7:\tlearn: 0.4399343\ttotal: 345ms\tremaining: 3.96s\n",
      "8:\tlearn: 0.4256760\ttotal: 370ms\tremaining: 3.74s\n",
      "9:\tlearn: 0.4144169\ttotal: 391ms\tremaining: 3.52s\n",
      "10:\tlearn: 0.4032396\ttotal: 407ms\tremaining: 3.29s\n",
      "11:\tlearn: 0.3927432\ttotal: 421ms\tremaining: 3.09s\n",
      "12:\tlearn: 0.3843665\ttotal: 432ms\tremaining: 2.89s\n",
      "13:\tlearn: 0.3761612\ttotal: 443ms\tremaining: 2.72s\n",
      "14:\tlearn: 0.3689351\ttotal: 455ms\tremaining: 2.58s\n",
      "15:\tlearn: 0.3626768\ttotal: 465ms\tremaining: 2.44s\n",
      "16:\tlearn: 0.3575264\ttotal: 475ms\tremaining: 2.32s\n",
      "17:\tlearn: 0.3537904\ttotal: 487ms\tremaining: 2.22s\n",
      "18:\tlearn: 0.3485343\ttotal: 499ms\tremaining: 2.13s\n",
      "19:\tlearn: 0.3447628\ttotal: 511ms\tremaining: 2.04s\n",
      "20:\tlearn: 0.3422870\ttotal: 523ms\tremaining: 1.97s\n",
      "21:\tlearn: 0.3387534\ttotal: 535ms\tremaining: 1.9s\n",
      "22:\tlearn: 0.3350634\ttotal: 547ms\tremaining: 1.83s\n",
      "23:\tlearn: 0.3320256\ttotal: 560ms\tremaining: 1.77s\n",
      "24:\tlearn: 0.3295907\ttotal: 571ms\tremaining: 1.71s\n",
      "25:\tlearn: 0.3273924\ttotal: 582ms\tremaining: 1.66s\n",
      "26:\tlearn: 0.3249847\ttotal: 594ms\tremaining: 1.61s\n",
      "27:\tlearn: 0.3226425\ttotal: 608ms\tremaining: 1.56s\n",
      "28:\tlearn: 0.3207622\ttotal: 619ms\tremaining: 1.51s\n",
      "29:\tlearn: 0.3191175\ttotal: 635ms\tremaining: 1.48s\n",
      "30:\tlearn: 0.3177307\ttotal: 648ms\tremaining: 1.44s\n",
      "31:\tlearn: 0.3161255\ttotal: 659ms\tremaining: 1.4s\n",
      "32:\tlearn: 0.3150852\ttotal: 672ms\tremaining: 1.36s\n",
      "33:\tlearn: 0.3137661\ttotal: 684ms\tremaining: 1.33s\n",
      "34:\tlearn: 0.3130104\ttotal: 695ms\tremaining: 1.29s\n",
      "35:\tlearn: 0.3119263\ttotal: 708ms\tremaining: 1.26s\n",
      "36:\tlearn: 0.3109885\ttotal: 721ms\tremaining: 1.23s\n",
      "37:\tlearn: 0.3098030\ttotal: 736ms\tremaining: 1.2s\n",
      "38:\tlearn: 0.3087554\ttotal: 749ms\tremaining: 1.17s\n",
      "39:\tlearn: 0.3077492\ttotal: 762ms\tremaining: 1.14s\n",
      "40:\tlearn: 0.3072979\ttotal: 776ms\tremaining: 1.12s\n",
      "41:\tlearn: 0.3064323\ttotal: 788ms\tremaining: 1.09s\n",
      "42:\tlearn: 0.3057094\ttotal: 800ms\tremaining: 1.06s\n",
      "43:\tlearn: 0.3053946\ttotal: 813ms\tremaining: 1.03s\n",
      "44:\tlearn: 0.3050255\ttotal: 826ms\tremaining: 1.01s\n",
      "45:\tlearn: 0.3045044\ttotal: 840ms\tremaining: 987ms\n",
      "46:\tlearn: 0.3037766\ttotal: 852ms\tremaining: 961ms\n",
      "47:\tlearn: 0.3029607\ttotal: 864ms\tremaining: 936ms\n",
      "48:\tlearn: 0.3021650\ttotal: 883ms\tremaining: 919ms\n",
      "49:\tlearn: 0.3018572\ttotal: 895ms\tremaining: 895ms\n",
      "50:\tlearn: 0.3014740\ttotal: 907ms\tremaining: 872ms\n",
      "51:\tlearn: 0.3009715\ttotal: 921ms\tremaining: 850ms\n",
      "52:\tlearn: 0.3007118\ttotal: 935ms\tremaining: 829ms\n",
      "53:\tlearn: 0.3003077\ttotal: 950ms\tremaining: 809ms\n",
      "54:\tlearn: 0.2998383\ttotal: 965ms\tremaining: 789ms\n",
      "55:\tlearn: 0.2992997\ttotal: 979ms\tremaining: 769ms\n",
      "56:\tlearn: 0.2989906\ttotal: 993ms\tremaining: 749ms\n",
      "57:\tlearn: 0.2986963\ttotal: 1.01s\tremaining: 729ms\n",
      "58:\tlearn: 0.2982579\ttotal: 1.02s\tremaining: 709ms\n",
      "59:\tlearn: 0.2980103\ttotal: 1.03s\tremaining: 688ms\n",
      "60:\tlearn: 0.2974843\ttotal: 1.04s\tremaining: 667ms\n",
      "61:\tlearn: 0.2971692\ttotal: 1.05s\tremaining: 647ms\n",
      "62:\tlearn: 0.2967417\ttotal: 1.07s\tremaining: 627ms\n",
      "63:\tlearn: 0.2960171\ttotal: 1.08s\tremaining: 607ms\n",
      "64:\tlearn: 0.2958127\ttotal: 1.09s\tremaining: 586ms\n",
      "65:\tlearn: 0.2952444\ttotal: 1.1s\tremaining: 566ms\n",
      "66:\tlearn: 0.2941934\ttotal: 1.11s\tremaining: 547ms\n",
      "67:\tlearn: 0.2938445\ttotal: 1.13s\tremaining: 531ms\n",
      "68:\tlearn: 0.2936023\ttotal: 1.14s\tremaining: 511ms\n",
      "69:\tlearn: 0.2934826\ttotal: 1.15s\tremaining: 492ms\n",
      "70:\tlearn: 0.2932566\ttotal: 1.16s\tremaining: 474ms\n",
      "71:\tlearn: 0.2928607\ttotal: 1.17s\tremaining: 455ms\n",
      "72:\tlearn: 0.2926462\ttotal: 1.18s\tremaining: 437ms\n",
      "73:\tlearn: 0.2925166\ttotal: 1.19s\tremaining: 419ms\n",
      "74:\tlearn: 0.2921953\ttotal: 1.2s\tremaining: 401ms\n",
      "75:\tlearn: 0.2919134\ttotal: 1.22s\tremaining: 384ms\n",
      "76:\tlearn: 0.2908437\ttotal: 1.23s\tremaining: 367ms\n",
      "77:\tlearn: 0.2906773\ttotal: 1.24s\tremaining: 350ms\n",
      "78:\tlearn: 0.2903584\ttotal: 1.25s\tremaining: 333ms\n",
      "79:\tlearn: 0.2901181\ttotal: 1.26s\tremaining: 316ms\n",
      "80:\tlearn: 0.2899217\ttotal: 1.27s\tremaining: 299ms\n",
      "81:\tlearn: 0.2890946\ttotal: 1.28s\tremaining: 282ms\n",
      "82:\tlearn: 0.2889671\ttotal: 1.3s\tremaining: 266ms\n",
      "83:\tlearn: 0.2887893\ttotal: 1.31s\tremaining: 249ms\n",
      "84:\tlearn: 0.2886137\ttotal: 1.32s\tremaining: 233ms\n",
      "85:\tlearn: 0.2884009\ttotal: 1.33s\tremaining: 217ms\n",
      "86:\tlearn: 0.2877244\ttotal: 1.34s\tremaining: 201ms\n",
      "87:\tlearn: 0.2873922\ttotal: 1.36s\tremaining: 185ms\n",
      "88:\tlearn: 0.2865567\ttotal: 1.37s\tremaining: 170ms\n",
      "89:\tlearn: 0.2864236\ttotal: 1.39s\tremaining: 154ms\n",
      "90:\tlearn: 0.2862896\ttotal: 1.4s\tremaining: 138ms\n",
      "91:\tlearn: 0.2860872\ttotal: 1.41s\tremaining: 123ms\n",
      "92:\tlearn: 0.2859599\ttotal: 1.42s\tremaining: 107ms\n",
      "93:\tlearn: 0.2857715\ttotal: 1.43s\tremaining: 91.3ms\n",
      "94:\tlearn: 0.2855683\ttotal: 1.44s\tremaining: 75.8ms\n",
      "95:\tlearn: 0.2853955\ttotal: 1.45s\tremaining: 60.4ms\n",
      "96:\tlearn: 0.2844282\ttotal: 1.46s\tremaining: 45.2ms\n",
      "97:\tlearn: 0.2842395\ttotal: 1.47s\tremaining: 30.1ms\n",
      "98:\tlearn: 0.2840138\ttotal: 1.49s\tremaining: 15ms\n",
      "99:\tlearn: 0.2838176\ttotal: 1.5s\tremaining: 0us\n"
     ]
    }
   ],
   "source": [
    "from catboost import CatBoostClassifier\n",
    "from sklearn.metrics import accuracy_score\n",
    "cb = CatBoostClassifier(iterations=100, learning_rate=0.1, depth=6)\n",
    "cb.fit(X_train,y_train)\n",
    "y_pred = cb.predict(x_test)"
   ]
  },
  {
   "cell_type": "code",
   "execution_count": 3,
   "id": "37cf3e09",
   "metadata": {},
   "outputs": [
    {
     "name": "stdout",
     "output_type": "stream",
     "text": [
      "              precision    recall  f1-score   support\n",
      "\n",
      "           0       0.95      0.49      0.64      2403\n",
      "           1       0.87      0.99      0.93      8095\n",
      "\n",
      "    accuracy                           0.88     10498\n",
      "   macro avg       0.91      0.74      0.78     10498\n",
      "weighted avg       0.89      0.88      0.86     10498\n",
      "\n",
      "0.876738426366927\n"
     ]
    }
   ],
   "source": [
    "from sklearn.metrics import classification_report, confusion_matrix\n",
    "print(classification_report(y_test,y_pred))\n",
    "print(accuracy_score(y_test,y_pred))"
   ]
  },
  {
   "cell_type": "code",
   "execution_count": 6,
   "id": "174a6afb",
   "metadata": {},
   "outputs": [],
   "source": [
    "final_model = cb"
   ]
  },
  {
   "cell_type": "code",
   "execution_count": 7,
   "id": "d1192929",
   "metadata": {},
   "outputs": [],
   "source": [
    "import pickle\n",
    "with open('./bestmodecatboost.pkl', 'wb') as file:\n",
    "    pickle.dump(final_model, file)"
   ]
  },
  {
   "cell_type": "code",
   "execution_count": 8,
   "id": "981bd301",
   "metadata": {},
   "outputs": [
    {
     "data": {
      "text/plain": [
       "['bestmodelcatboost.joblib']"
      ]
     },
     "execution_count": 8,
     "metadata": {},
     "output_type": "execute_result"
    }
   ],
   "source": [
    "import joblib\n",
    "\n",
    "joblib.dump(final_model,'bestmodelcatboost.joblib')\n"
   ]
  },
  {
   "cell_type": "code",
   "execution_count": 9,
   "id": "6f8ec564",
   "metadata": {},
   "outputs": [
    {
     "name": "stdout",
     "output_type": "stream",
     "text": [
      "1.2.2\n"
     ]
    }
   ],
   "source": [
    "import sklearn\n",
    "print(sklearn.__version__)"
   ]
  },
  {
   "cell_type": "code",
   "execution_count": 10,
   "id": "e8456382",
   "metadata": {},
   "outputs": [
    {
     "name": "stdout",
     "output_type": "stream",
     "text": [
      "1.2.0\n"
     ]
    }
   ],
   "source": [
    "import joblib\n",
    "print(joblib.__version__)"
   ]
  },
  {
   "cell_type": "code",
   "execution_count": null,
   "id": "ddb3688f",
   "metadata": {},
   "outputs": [],
   "source": []
  }
 ],
 "metadata": {
  "kernelspec": {
   "display_name": "Python 3 (ipykernel)",
   "language": "python",
   "name": "python3"
  },
  "language_info": {
   "codemirror_mode": {
    "name": "ipython",
    "version": 3
   },
   "file_extension": ".py",
   "mimetype": "text/x-python",
   "name": "python",
   "nbconvert_exporter": "python",
   "pygments_lexer": "ipython3",
   "version": "3.11.7"
  }
 },
 "nbformat": 4,
 "nbformat_minor": 5
}
