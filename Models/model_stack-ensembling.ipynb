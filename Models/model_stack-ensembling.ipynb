{
 "cells": [
  {
   "cell_type": "code",
   "execution_count": 1,
   "id": "24d9b92e",
   "metadata": {},
   "outputs": [],
   "source": [
    "import pandas as pd\n",
    "df = pd.read_csv(\"stratified_sample_50000.csv\")\n",
    "df.head()\n",
    "\n",
    "x=df.drop(\"loan_status\",axis=1)\n",
    "y=df[\"loan_status\"]\n",
    "\n",
    "from imblearn.over_sampling import SMOTE\n",
    "\n",
    "smote = SMOTE(sampling_strategy=0.3)\n",
    "x_res, y_res = smote.fit_resample(x,y)\n",
    "\n",
    "x_res.shape, y_res.shape\n",
    "from sklearn.model_selection import train_test_split\n",
    "X_train, x_test, y_train, y_test = train_test_split(x_res, y_res, test_size=0.2, random_state=123456)"
   ]
  },
  {
   "cell_type": "code",
   "execution_count": null,
   "id": "ddb3688f",
   "metadata": {},
   "outputs": [
    {
     "name": "stdout",
     "output_type": "stream",
     "text": [
      "{'cv': None, 'estimators': [('KNN', KNeighborsClassifier()), ('SVM', SVC(probability=True, random_state=24)), ('TREE', DecisionTreeClassifier(random_state=24))], 'final_estimator__bootstrap': True, 'final_estimator__ccp_alpha': 0.0, 'final_estimator__class_weight': None, 'final_estimator__criterion': 'gini', 'final_estimator__max_depth': None, 'final_estimator__max_features': 'sqrt', 'final_estimator__max_leaf_nodes': None, 'final_estimator__max_samples': None, 'final_estimator__min_impurity_decrease': 0.0, 'final_estimator__min_samples_leaf': 1, 'final_estimator__min_samples_split': 2, 'final_estimator__min_weight_fraction_leaf': 0.0, 'final_estimator__n_estimators': 25, 'final_estimator__n_jobs': None, 'final_estimator__oob_score': False, 'final_estimator__random_state': 24, 'final_estimator__verbose': 0, 'final_estimator__warm_start': False, 'final_estimator': RandomForestClassifier(n_estimators=25, random_state=24), 'n_jobs': None, 'passthrough': True, 'stack_method': 'auto', 'verbose': 0, 'KNN': KNeighborsClassifier(), 'SVM': SVC(probability=True, random_state=24), 'TREE': DecisionTreeClassifier(random_state=24), 'KNN__algorithm': 'auto', 'KNN__leaf_size': 30, 'KNN__metric': 'minkowski', 'KNN__metric_params': None, 'KNN__n_jobs': None, 'KNN__n_neighbors': 5, 'KNN__p': 2, 'KNN__weights': 'uniform', 'SVM__C': 1.0, 'SVM__break_ties': False, 'SVM__cache_size': 200, 'SVM__class_weight': None, 'SVM__coef0': 0.0, 'SVM__decision_function_shape': 'ovr', 'SVM__degree': 3, 'SVM__gamma': 'scale', 'SVM__kernel': 'rbf', 'SVM__max_iter': -1, 'SVM__probability': True, 'SVM__random_state': 24, 'SVM__shrinking': True, 'SVM__tol': 0.001, 'SVM__verbose': False, 'TREE__ccp_alpha': 0.0, 'TREE__class_weight': None, 'TREE__criterion': 'gini', 'TREE__max_depth': None, 'TREE__max_features': None, 'TREE__max_leaf_nodes': None, 'TREE__min_impurity_decrease': 0.0, 'TREE__min_samples_leaf': 1, 'TREE__min_samples_split': 2, 'TREE__min_weight_fraction_leaf': 0.0, 'TREE__random_state': 24, 'TREE__splitter': 'best'}\n",
      "Fitting 5 folds for each of 24 candidates, totalling 120 fits\n"
     ]
    }
   ],
   "source": [
    "import pandas as pd\n",
    "import numpy as np\n",
    "from sklearn.model_selection import train_test_split\n",
    "from sklearn.metrics import log_loss, accuracy_score\n",
    "from sklearn.preprocessing import LabelEncoder \n",
    "from sklearn.model_selection import GridSearchCV \n",
    "from sklearn.model_selection import StratifiedKFold\n",
    "from sklearn.ensemble import RandomForestClassifier\n",
    "from sklearn.ensemble import StackingClassifier \n",
    "from sklearn.linear_model import LogisticRegression\n",
    "from sklearn.neighbors import KNeighborsClassifier \n",
    "from sklearn.svm import SVC \n",
    "from sklearn.tree import DecisionTreeClassifier\n",
    "import matplotlib.pyplot as plt\n",
    "\n",
    "kfold = StratifiedKFold(n_splits=5, \n",
    "        shuffle=True, random_state=24)\n",
    "\n",
    "knn = KNeighborsClassifier()\n",
    "svm = SVC(probability=True, random_state=24)\n",
    "dtc = DecisionTreeClassifier(random_state=24)\n",
    "rf = RandomForestClassifier(random_state=24, n_estimators=25)\n",
    "stack = StackingClassifier([('KNN', knn),\n",
    "        ('SVM',svm),('TREE',dtc)], final_estimator=rf, \n",
    "        passthrough=True) \n",
    "print(stack.get_params())\n",
    "params = {'KNN__n_neighbors':[3,5],\n",
    "          'SVM__kernel':['linear', 'rbf'],\n",
    "          'TREE__max_depth':[None, 6],\n",
    "          'final_estimator__max_features':[3, 5, 7]}\n",
    "gcv = GridSearchCV(stack, param_grid=params, cv=kfold,verbose=3,\n",
    "                   scoring='neg_log_loss')\n",
    "gcv.fit(x, y)\n",
    "print(gcv.best_params_)\n",
    "print(gcv.best_score_)"
   ]
  },
  {
   "cell_type": "code",
   "execution_count": null,
   "id": "79813021",
   "metadata": {},
   "outputs": [],
   "source": [
    "import joblib\n",
    "\n",
    "joblib.dump(final_model,'bestmodexgboost.joblib')"
   ]
  },
  {
   "cell_type": "code",
   "execution_count": null,
   "id": "08b65b02",
   "metadata": {},
   "outputs": [],
   "source": [
    "import pickle\n",
    "with open('./bestmodelxgboost.pkl', 'wb') as file:\n",
    "    pickle.dump(final_model, file)"
   ]
  }
 ],
 "metadata": {
  "kernelspec": {
   "display_name": "Python 3 (ipykernel)",
   "language": "python",
   "name": "python3"
  },
  "language_info": {
   "codemirror_mode": {
    "name": "ipython",
    "version": 3
   },
   "file_extension": ".py",
   "mimetype": "text/x-python",
   "name": "python",
   "nbconvert_exporter": "python",
   "pygments_lexer": "ipython3",
   "version": "3.11.7"
  }
 },
 "nbformat": 4,
 "nbformat_minor": 5
}
